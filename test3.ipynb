{
 "cells": [
  {
   "cell_type": "code",
   "execution_count": 4,
   "metadata": {},
   "outputs": [],
   "source": [
    "import numpy as np\n",
    "from collections import defaultdict\n",
    "\n",
    "def leiden_algorithm(adj_matrix, resolution_parameter):\n",
    "    # Convert adjacency matrix to networkx graph\n",
    "    import networkx as nx\n",
    "    G = nx.from_numpy_array(adj_matrix)\n",
    "\n",
    "    # Initialize partition, node-to-community map, and modularity\n",
    "    partition = list(range(len(G.nodes)))\n",
    "    node2com = {node: i for i, node in enumerate(G.nodes)}\n",
    "    modularity = -np.inf\n",
    "\n",
    "    # Iterate until no further improvement in modularity\n",
    "    while True:\n",
    "        improved = False\n",
    "\n",
    "        # Randomize order of nodes\n",
    "        nodes = list(G.nodes)\n",
    "        np.random.shuffle(nodes)\n",
    "\n",
    "        # Iterate over nodes in randomized order\n",
    "        for node in nodes:\n",
    "            # Get current community of node\n",
    "            cur_com = node2com[node]\n",
    "\n",
    "            # Compute the modularity gain of moving node to each neighboring community\n",
    "            neighbor_coms = defaultdict(int)\n",
    "            for neighbor in G.neighbors(node):\n",
    "                neighbor_com = node2com[neighbor]\n",
    "                if neighbor_com != cur_com:\n",
    "                    neighbor_coms[neighbor_com] += adj_matrix[node, neighbor] - resolution_parameter * np.sum(adj_matrix[node, :]) * np.sum(adj_matrix[:, neighbor]) / np.sum(adj_matrix)\n",
    "\n",
    "            # Get community with maximum modularity gain\n",
    "            if neighbor_coms:\n",
    "                best_com = max(neighbor_coms, key=neighbor_coms.get)\n",
    "                gain = neighbor_coms[best_com]\n",
    "            else:\n",
    "                gain = 0\n",
    "\n",
    "            # Move node to best community if modularity is improved\n",
    "            if gain > 0:\n",
    "                partition[node] = best_com\n",
    "                node2com[node] = best_com\n",
    "                modularity += gain\n",
    "                improved = True\n",
    "\n",
    "        # Break if no further improvement in modularity\n",
    "        if not improved:\n",
    "            break\n",
    "\n",
    "    # Return partition and modularity\n",
    "    return partition, modularity\n"
   ]
  },
  {
   "cell_type": "code",
   "execution_count": 5,
   "metadata": {},
   "outputs": [],
   "source": [
    "# Generate random adjacency matrix\n",
    "n = 50  # number of nodes\n",
    "p = 0.1  # edge probability\n",
    "adj_matrix = np.random.rand(n, n) < p\n",
    "adj_matrix = np.triu(adj_matrix) + np.triu(adj_matrix, 1).T"
   ]
  },
  {
   "cell_type": "code",
   "execution_count": 6,
   "metadata": {},
   "outputs": [],
   "source": [
    "leiden_algorithm(adj_matrix, 0.5)"
   ]
  },
  {
   "cell_type": "code",
   "execution_count": null,
   "metadata": {},
   "outputs": [],
   "source": []
  }
 ],
 "metadata": {
  "kernelspec": {
   "display_name": "Python 3",
   "language": "python",
   "name": "python3"
  },
  "language_info": {
   "codemirror_mode": {
    "name": "ipython",
    "version": 3
   },
   "file_extension": ".py",
   "mimetype": "text/x-python",
   "name": "python",
   "nbconvert_exporter": "python",
   "pygments_lexer": "ipython3",
   "version": "3.11.1"
  },
  "orig_nbformat": 4,
  "vscode": {
   "interpreter": {
    "hash": "9c9e3963723c8f92737e409561f90b77851da50b8525d226799b7c6eba7d414f"
   }
  }
 },
 "nbformat": 4,
 "nbformat_minor": 2
}
