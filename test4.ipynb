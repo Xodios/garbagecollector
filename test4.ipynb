{
 "cells": [
  {
   "cell_type": "code",
   "execution_count": 1,
   "metadata": {},
   "outputs": [
    {
     "ename": "SyntaxError",
     "evalue": "incomplete input (931993161.py, line 65)",
     "output_type": "error",
     "traceback": [
      "\u001b[1;36m  Cell \u001b[1;32mIn[1], line 65\u001b[1;36m\u001b[0m\n\u001b[1;33m    return 2 * (sum(G.degree(v, nbunch=C)) - G.degree(v) * sum([G.degree(u)\u001b[0m\n\u001b[1;37m                                                                           ^\u001b[0m\n\u001b[1;31mSyntaxError\u001b[0m\u001b[1;31m:\u001b[0m incomplete input\n"
     ]
    }
   ],
   "source": [
    "def Leiden(G, P):\n",
    "    done = len(P) == len(G.nodes())\n",
    "    while not done:\n",
    "        P = MoveNodesFast(G, P)\n",
    "        Prefined = RefinePartition(G, P)\n",
    "        G = AggregateGraph(G, Prefined)\n",
    "        P = [{v for v in C if v in G.nodes()} for C in Prefined]\n",
    "        done = len(P) == len(G.nodes())\n",
    "    return flat(P)\n",
    "\n",
    "def MoveNodesFast(G, P):\n",
    "    Q = list(G.nodes())\n",
    "    while Q:\n",
    "        v = Q.pop(0)\n",
    "        C0 = max(P + [set()], key=lambda C: deltaHP(G, P, v, C))\n",
    "        if deltaHP(G, P, v, C0) > 0:\n",
    "            v_in_C = [v in C for C in P]\n",
    "            P[v_in_C.index(True)].remove(v)\n",
    "            P[v_in_C.index(True)].add(v)\n",
    "            N = {u for u in G.neighbors(v) if u not in C0}\n",
    "            Q.extend(list(N - set(Q)))\n",
    "    return P\n",
    "\n",
    "def RefinePartition(G, P):\n",
    "    Prefined = SingletonPartition(G)\n",
    "    for C in P:\n",
    "        Prefined = MergeNodesSubset(G, Prefined, C)\n",
    "    return Prefined\n",
    "\n",
    "def MergeNodesSubset(G, P, S, gamma=0.5, theta=1):\n",
    "    R = [v for v in S if E(G, v, S - {v}) >= gamma * k(G, v) * (len(S) - k(G, v))]\n",
    "    np.random.shuffle(R)\n",
    "    for v in R:\n",
    "        if len({C for C in P if C.issubset(S) and E(G, C, S - C) >= gamma * len(C) * (len(S) - len(C))}) > 0:\n",
    "            T = {C for C in P if C.issubset(S) and E(G, C, S - C) >= gamma * len(C) * (len(S) - len(C))}\n",
    "            Pr = lambda C: np.exp(theta * deltaHP(G, P, v, C)) if deltaHP(G, P, v, C) >= 0 else 0\n",
    "            Pr = np.array([Pr(C) for C in T])\n",
    "            Pr /= np.sum(Pr)\n",
    "            C0 = np.random.choice(list(T), p=Pr)\n",
    "            v_in_C = [v in C for C in P]\n",
    "            P[v_in_C.index(True)].remove(v)\n",
    "            P[P.index(C0)].add(v)\n",
    "        elif v not in flat(P):\n",
    "            P.append({v})\n",
    "    return P\n",
    "\n",
    "def AggregateGraph(G, P):\n",
    "    A = nx.Graph()\n",
    "    for C in P:\n",
    "        A.add_node(frozenset(C))\n",
    "    for (u, v) in G.edges():\n",
    "        for C in P:\n",
    "            if u in C:\n",
    "                Cu = frozenset(C)\n",
    "            if v in C:\n",
    "                Cv = frozenset(C)\n",
    "        if A.has_edge(Cu, Cv):\n",
    "            A[Cu][Cv]['weight'] += 1\n",
    "        else:\n",
    "            A.add_edge(Cu, Cv, weight=1)\n",
    "    return A\n",
    "\n",
    "def SingletonPartition(G):\n",
    "    return [{v} for v in G.nodes()]\n",
    "\n",
    "def flat(P):\n",
    "    return {frozenset(C) for C in P}\n",
    "\n",
    "def deltaHP(G, P, v, C):\n",
    "    k_v = k(G, v"
   ]
  },
  {
   "cell_type": "code",
   "execution_count": null,
   "metadata": {},
   "outputs": [],
   "source": []
  }
 ],
 "metadata": {
  "kernelspec": {
   "display_name": "Python 3",
   "language": "python",
   "name": "python3"
  },
  "language_info": {
   "codemirror_mode": {
    "name": "ipython",
    "version": 3
   },
   "file_extension": ".py",
   "mimetype": "text/x-python",
   "name": "python",
   "nbconvert_exporter": "python",
   "pygments_lexer": "ipython3",
   "version": "3.11.1"
  },
  "orig_nbformat": 4,
  "vscode": {
   "interpreter": {
    "hash": "9c9e3963723c8f92737e409561f90b77851da50b8525d226799b7c6eba7d414f"
   }
  }
 },
 "nbformat": 4,
 "nbformat_minor": 2
}
