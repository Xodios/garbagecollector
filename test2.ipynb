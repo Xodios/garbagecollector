{
 "cells": [
  {
   "cell_type": "code",
   "execution_count": 5,
   "metadata": {},
   "outputs": [],
   "source": [
    "import random\n",
    "import matplotlib.pyplot as plt\n",
    "import networkx as nx"
   ]
  },
  {
   "cell_type": "code",
   "execution_count": 6,
   "metadata": {},
   "outputs": [],
   "source": [
    "def create_random_graph(num_nodes, prob_edge):\n",
    "    \"\"\"Creates a random graph with `num_nodes` nodes and a probability of `prob_edge` for an edge between any two nodes.\"\"\"\n",
    "    graph = nx.Graph()\n",
    "    for i in range(num_nodes):\n",
    "        graph.add_node(i)\n",
    "        for j in range(i):\n",
    "            if random.random() < prob_edge:\n",
    "                graph.add_edge(i, j)\n",
    "    return graph\n",
    "\n",
    "def calculate_modularity(graph, partition, m):\n",
    "    \"\"\"Calculates the modularity of a partition of a graph.\"\"\"\n",
    "    modularity = 0\n",
    "    for c in set(partition.values()):\n",
    "        nodes = [n for n in partition.keys() if partition[n] == c]\n",
    "        subgraph = graph.subgraph(nodes)\n",
    "        lc = subgraph.size(weight='weight') / (2*m)\n",
    "        kc = sum(dict(subgraph.degree(weight='weight')).values()) / (2*m)\n",
    "        modularity += lc - kc**2\n",
    "    return modularity\n",
    "\n",
    "def get_modularity_gain(graph, partition, community, node, degree, degree_community, m):\n",
    "    \"\"\"Calculates the modularity gain of moving a node to a new community.\"\"\"\n",
    "    delta_q = 0\n",
    "    for neighbor in graph.neighbors(node):\n",
    "        if partition[neighbor] == community:\n",
    "            a_ij = graph[node][neighbor].get('weight', 1)\n",
    "            delta_q += a_ij - degree*degree_community/(2*m)\n",
    "    return delta_q / (2*m)\n",
    "\n",
    "def leiden_algorithm(graph, num_nodes, prob_edge):\n",
    "    \"\"\"Applies the Leiden algorithm to a graph.\"\"\"\n",
    "    # initialize partition and modularity\n",
    "    partition = {i:i for i in range(num_nodes)}\n",
    "    m = graph.size(weight='weight') / 2\n",
    "    best_partition = partition.copy()\n",
    "    best_modularity = calculate_modularity(graph, partition, m)\n",
    "    initial_pass = True\n",
    "    \n",
    "    while True:\n",
    "        # repeat until no further improvement can be made\n",
    "        improvement = True\n",
    "        while improvement:\n",
    "            improvement = False\n",
    "            \n",
    "            # get communities\n",
    "            communities = set(partition.values())\n",
    "            \n",
    "            for c in communities:\n",
    "                # get nodes in community c\n",
    "                nodes = [n for n in partition.keys() if partition[n] == c]\n",
    "                subgraph = graph.subgraph(nodes)\n",
    "                degree_community = subgraph.size(weight='weight')\n",
    "                \n",
    "                # calculate modularity gain for moving nodes to other communities\n",
    "                for node in nodes:\n",
    "                    degree = graph.degree(node, weight='weight')\n",
    "                    max_delta_q = 0\n",
    "                    best_community = c\n",
    "                    for neighbor in graph.neighbors(node):\n",
    "                        neighbor_community = partition[neighbor]\n",
    "                        if neighbor_community == c:\n",
    "                            continue\n",
    "                        delta_q = get_modularity_gain(graph, partition, neighbor_community, node, degree, degree_community, m)\n",
    "                        if delta_q > max_delta_q:\n",
    "                            max_delta_q = delta_q\n",
    "                            best_community = neighbor_community\n",
    "                    \n",
    "                    # move node to community with highest modularity gain\n",
    "                    if best_community != c:\n",
    "                        partition[node] = best_community\n",
    "                        improvement = True\n",
    "            \n",
    "        # create new graph with communities as nodes and edges as weights\n",
    "        communities = set(partition.values())\n",
    "        new_graph = nx.Graph()\n",
    "        for community in communities:\n",
    "            nodes = [n for n in partition.keys() if partition[n] == community]\n",
    "            subgraph = graph.subgraph"
   ]
  },
  {
   "cell_type": "code",
   "execution_count": 7,
   "metadata": {},
   "outputs": [
    {
     "ename": "KeyboardInterrupt",
     "evalue": "",
     "output_type": "error",
     "traceback": [
      "\u001b[1;31m---------------------------------------------------------------------------\u001b[0m",
      "\u001b[1;31mKeyboardInterrupt\u001b[0m                         Traceback (most recent call last)",
      "Cell \u001b[1;32mIn[7], line 6\u001b[0m\n\u001b[0;32m      2\u001b[0m prob_edge \u001b[39m=\u001b[39m \u001b[39m0.1\u001b[39m\n\u001b[0;32m      4\u001b[0m graph \u001b[39m=\u001b[39m create_random_graph(num_nodes, prob_edge)\n\u001b[1;32m----> 6\u001b[0m final_graph, final_partition, modularity \u001b[39m=\u001b[39m leiden_algorithm(graph, num_nodes, prob_edge)\n\u001b[0;32m      8\u001b[0m \u001b[39m# plot final partition\u001b[39;00m\n\u001b[0;32m      9\u001b[0m pos \u001b[39m=\u001b[39m nx\u001b[39m.\u001b[39mspring_layout(final_graph)\n",
      "Cell \u001b[1;32mIn[6], line 60\u001b[0m, in \u001b[0;36mleiden_algorithm\u001b[1;34m(graph, num_nodes, prob_edge)\u001b[0m\n\u001b[0;32m     58\u001b[0m max_delta_q \u001b[39m=\u001b[39m \u001b[39m0\u001b[39m\n\u001b[0;32m     59\u001b[0m best_community \u001b[39m=\u001b[39m c\n\u001b[1;32m---> 60\u001b[0m \u001b[39mfor\u001b[39;00m neighbor \u001b[39min\u001b[39;00m graph\u001b[39m.\u001b[39;49mneighbors(node):\n\u001b[0;32m     61\u001b[0m     neighbor_community \u001b[39m=\u001b[39m partition[neighbor]\n\u001b[0;32m     62\u001b[0m     \u001b[39mif\u001b[39;00m neighbor_community \u001b[39m==\u001b[39m c:\n",
      "File \u001b[1;32mc:\\Users\\Xodios\\AppData\\Local\\Programs\\Python\\Python311\\Lib\\site-packages\\networkx\\classes\\graph.py:1315\u001b[0m, in \u001b[0;36mGraph.neighbors\u001b[1;34m(self, n)\u001b[0m\n\u001b[0;32m   1312\u001b[0m     \u001b[39mexcept\u001b[39;00m \u001b[39mKeyError\u001b[39;00m:\n\u001b[0;32m   1313\u001b[0m         \u001b[39mreturn\u001b[39;00m \u001b[39mFalse\u001b[39;00m\n\u001b[1;32m-> 1315\u001b[0m \u001b[39mdef\u001b[39;00m \u001b[39mneighbors\u001b[39m(\u001b[39mself\u001b[39m, n):\n\u001b[0;32m   1316\u001b[0m     \u001b[39m\"\"\"Returns an iterator over all neighbors of node n.\u001b[39;00m\n\u001b[0;32m   1317\u001b[0m \n\u001b[0;32m   1318\u001b[0m \u001b[39m    This is identical to `iter(G[n])`\u001b[39;00m\n\u001b[1;32m   (...)\u001b[0m\n\u001b[0;32m   1351\u001b[0m \u001b[39m    [1]\u001b[39;00m\n\u001b[0;32m   1352\u001b[0m \u001b[39m    \"\"\"\u001b[39;00m\n\u001b[0;32m   1353\u001b[0m     \u001b[39mtry\u001b[39;00m:\n",
      "\u001b[1;31mKeyboardInterrupt\u001b[0m: "
     ]
    }
   ],
   "source": [
    "num_nodes = 50\n",
    "prob_edge = 0.1\n",
    "\n",
    "graph = create_random_graph(num_nodes, prob_edge)\n",
    "\n",
    "final_graph, final_partition, modularity = leiden_algorithm(graph, num_nodes, prob_edge)\n",
    "\n",
    "# plot final partition\n",
    "pos = nx.spring_layout(final_graph)\n",
    "colors = [final_partition[n] for n in final_graph.nodes()]\n",
    "nx.draw(final_graph, pos, node_color=colors, with_labels=True)\n",
    "plt.show()\n",
    "\n",
    "print(\"Final modularity:\", modularity)"
   ]
  }
 ],
 "metadata": {
  "kernelspec": {
   "display_name": "Python 3",
   "language": "python",
   "name": "python3"
  },
  "language_info": {
   "codemirror_mode": {
    "name": "ipython",
    "version": 3
   },
   "file_extension": ".py",
   "mimetype": "text/x-python",
   "name": "python",
   "nbconvert_exporter": "python",
   "pygments_lexer": "ipython3",
   "version": "3.11.1"
  },
  "orig_nbformat": 4,
  "vscode": {
   "interpreter": {
    "hash": "9c9e3963723c8f92737e409561f90b77851da50b8525d226799b7c6eba7d414f"
   }
  }
 },
 "nbformat": 4,
 "nbformat_minor": 2
}
